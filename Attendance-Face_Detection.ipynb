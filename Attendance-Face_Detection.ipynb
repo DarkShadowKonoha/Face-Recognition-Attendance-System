{
 "cells": [
  {
   "cell_type": "code",
   "execution_count": 1,
   "id": "78d5ec42-5b4d-4394-98c3-f1922ace5cec",
   "metadata": {},
   "outputs": [],
   "source": [
    "import dlib"
   ]
  },
  {
   "cell_type": "code",
   "execution_count": 2,
   "id": "f2c3e719-c93b-4745-8f85-2d49bee56ae2",
   "metadata": {},
   "outputs": [],
   "source": [
    "import face_recognition"
   ]
  },
  {
   "cell_type": "code",
   "execution_count": 3,
   "id": "83154588-9e93-49f2-89ea-cdffb1831267",
   "metadata": {},
   "outputs": [],
   "source": [
    "import numpy as np\n",
    "import cv2"
   ]
  },
  {
   "cell_type": "code",
   "execution_count": 4,
   "id": "48a1696b-a3a3-44bf-b643-c19bd24fe6b3",
   "metadata": {},
   "outputs": [],
   "source": [
    "imgChimya_bgr = face_recognition.load_image_file('train_img_path/Chris Evans.jpg')\n",
    "imgChimya_rgb = cv2.cvtColor(imgChimya_bgr, cv2.COLOR_BGR2RGB)\n",
    "# cv2.imshow('bgr',imgChimya_bgr)\n",
    "# cv2.imshow('rgb',imgChimya_rgb)\n",
    "# cv2.waitKey(0)"
   ]
  },
  {
   "cell_type": "code",
   "execution_count": 5,
   "id": "36f6770a-177c-4a20-a9cd-becf1e906595",
   "metadata": {
    "scrolled": true,
    "tags": []
   },
   "outputs": [
    {
     "data": {
      "text/plain": [
       "array([[[ 68,  65,  54],\n",
       "        [ 68,  65,  54],\n",
       "        [ 68,  65,  54],\n",
       "        ...,\n",
       "        [ 54,  51,  38],\n",
       "        [ 54,  51,  38],\n",
       "        [ 54,  51,  38]],\n",
       "\n",
       "       [[ 68,  65,  54],\n",
       "        [ 68,  65,  54],\n",
       "        [ 68,  65,  54],\n",
       "        ...,\n",
       "        [ 54,  51,  38],\n",
       "        [ 54,  51,  38],\n",
       "        [ 54,  51,  38]],\n",
       "\n",
       "       [[ 68,  65,  54],\n",
       "        [ 68,  65,  54],\n",
       "        [ 68,  65,  54],\n",
       "        ...,\n",
       "        [ 55,  53,  39],\n",
       "        [ 55,  53,  39],\n",
       "        [ 55,  53,  39]],\n",
       "\n",
       "       ...,\n",
       "\n",
       "       [[ 92,  52,  15],\n",
       "        [119,  79,  42],\n",
       "        [124,  84,  48],\n",
       "        ...,\n",
       "        [ 94,  55,  23],\n",
       "        [ 96,  56,  24],\n",
       "        [ 92,  53,  21]],\n",
       "\n",
       "       [[126,  86,  49],\n",
       "        [123,  83,  47],\n",
       "        [105,  65,  28],\n",
       "        ...,\n",
       "        [ 97,  58,  25],\n",
       "        [ 97,  58,  25],\n",
       "        [ 92,  53,  21]],\n",
       "\n",
       "       [[119,  79,  42],\n",
       "        [ 93,  53,  16],\n",
       "        [ 89,  50,  13],\n",
       "        ...,\n",
       "        [ 97,  58,  25],\n",
       "        [ 97,  58,  25],\n",
       "        [ 92,  53,  21]]], dtype=uint8)"
      ]
     },
     "execution_count": 5,
     "metadata": {},
     "output_type": "execute_result"
    }
   ],
   "source": [
    "imgChimya = face_recognition.load_image_file('train_img_path/Chris Evans.jpg')\n",
    "imgChimya = cv2.cvtColor(imgChimya, cv2.COLOR_BGR2RGB)\n",
    "\n",
    "face = face_recognition.face_locations(imgChimya)[0]\n",
    "copy = imgChimya.copy()\n",
    "\n",
    "cv2.rectangle(copy, (face[3], face[0]), (face[1], face[2]), (255, 0, 255), 2)\n",
    "# cv2_imshow(imgChimya)\n",
    "# cv2.imshow('box',copy)\n",
    "# cv2.waitKey(0)"
   ]
  },
  {
   "cell_type": "code",
   "execution_count": 6,
   "id": "8c809ee7-78eb-4c38-a62b-c0190621ce3d",
   "metadata": {},
   "outputs": [],
   "source": [
    "train_chimya_encoding = face_recognition.face_encodings(imgChimya)[0]"
   ]
  },
  {
   "cell_type": "code",
   "execution_count": 7,
   "id": "f150de96-9acd-474b-bed3-af5636401adb",
   "metadata": {},
   "outputs": [
    {
     "name": "stdout",
     "output_type": "stream",
     "text": [
      "[True]\n"
     ]
    }
   ],
   "source": [
    "test = face_recognition.load_image_file('test_img_path/Chris_test.jpg')\n",
    "test = cv2.cvtColor(test, cv2.COLOR_BGR2RGB)\n",
    "test_encode = face_recognition.face_encodings(test)[0]\n",
    "print(face_recognition.compare_faces([train_chimya_encoding], test_encode))"
   ]
  },
  {
   "cell_type": "code",
   "execution_count": 8,
   "id": "5ceda483-2ca3-42b2-9e4c-76234b2e1342",
   "metadata": {},
   "outputs": [],
   "source": [
    "import cv2\n",
    "import face_recognition\n",
    "import os\n",
    "import numpy as np\n",
    "from datetime import datetime\n",
    "import pickle"
   ]
  },
  {
   "cell_type": "code",
   "execution_count": 9,
   "id": "b7060237-bc26-40cf-9ba9-412cd0e812ca",
   "metadata": {},
   "outputs": [
    {
     "name": "stdout",
     "output_type": "stream",
     "text": [
      "Chris Evans.jpg\n",
      "train_img_path/Chris Evans.jpg\n",
      "Jeremy Renner.jpg\n",
      "train_img_path/Jeremy Renner.jpg\n",
      "Robert Downey.jpg\n",
      "train_img_path/Robert Downey.jpg\n",
      "Scarlett Johansson.jpg\n",
      "train_img_path/Scarlett Johansson.jpg\n"
     ]
    }
   ],
   "source": [
    "train_path = 'train_img_path'\n",
    "try_path = os.listdir(train_path)\n",
    "encode_face_List = []\n",
    "\n",
    "for file in try_path:\n",
    "  if(file.endswith(\".jpeg\") or file.endswith(\".jpg\") or file.endswith(\".png\")):\n",
    "    print(file)\n",
    "    img_path = train_path+'/'+file \n",
    "    print(img_path)\n",
    "\n",
    "    train_img = face_recognition.load_image_file(img_path)\n",
    "    train_img = cv2.cvtColor(train_img, cv2.COLOR_BGR2RGB)\n",
    "\n",
    "    train_encoding = face_recognition.face_encodings(train_img)[0]\n",
    "    encode_face_List.append(train_encoding)\n"
   ]
  },
  {
   "cell_type": "code",
   "execution_count": 10,
   "id": "ddb7fdad-44de-4a78-9be4-c6ad2e90d586",
   "metadata": {},
   "outputs": [
    {
     "name": "stdout",
     "output_type": "stream",
     "text": [
      "now = 2022-05-25 22:27:57.504494\n",
      "date:  25/05/2022\n",
      "time:  22:27:57\n"
     ]
    }
   ],
   "source": [
    "from datetime import datetime\n",
    "\n",
    "# datetime object containing current date and time\n",
    "now = datetime.now()\n",
    " \n",
    "print(\"now =\", now)\n",
    "\n",
    "# dd/mm/YY H:M:S\n",
    "date = now.strftime(\"%d/%m/%Y\") \n",
    "time = now.strftime(\"%H:%M:%S\")\n",
    "print(\"date: \", date)\n",
    "print(\"time: \", time)\t"
   ]
  },
  {
   "cell_type": "code",
   "execution_count": 11,
   "id": "11f83a84-31b6-4579-bce6-700372ad80fb",
   "metadata": {},
   "outputs": [
    {
     "name": "stdout",
     "output_type": "stream",
     "text": [
      "25-05-2022\n",
      "22:27:57\n"
     ]
    }
   ],
   "source": [
    "from pytz import timezone \n",
    "from datetime import datetime\n",
    "\n",
    "ind_date = datetime.now(timezone(\"Asia/Kolkata\")).strftime('%d-%m-%Y')\n",
    "ind_time = datetime.now(timezone(\"Asia/Kolkata\")).strftime('%H:%M:%S')\n",
    "print(ind_date)\n",
    "print(ind_time)"
   ]
  },
  {
   "cell_type": "code",
   "execution_count": 12,
   "id": "13121498-0a74-4130-9bd5-8f83f4368750",
   "metadata": {},
   "outputs": [],
   "source": [
    "def markAttendance(name):\n",
    "  with open('Attendance.csv', 'r+') as f:\n",
    "    dataList = f.readlines()\n",
    "    nameList = []\n",
    "    for line in dataList[1:]:\n",
    "      entry = line.split(',')\n",
    "      nameList.append(entry[0])\n",
    "    if name not in nameList:\n",
    "      ind_date = datetime.now(timezone(\"Asia/Kolkata\")).strftime('%d-%m-%Y')\n",
    "      ind_time = datetime.now(timezone(\"Asia/Kolkata\")).strftime('%H:%M:%S')\n",
    "      f.writelines(f'\\n{name}, {ind_time}, {ind_date}')"
   ]
  },
  {
   "cell_type": "code",
   "execution_count": 13,
   "id": "9f864751-9798-4f31-ba1d-50112e1dbde8",
   "metadata": {},
   "outputs": [
    {
     "name": "stdout",
     "output_type": "stream",
     "text": [
      "Orignal Dims:  (1600, 1128, 3)\n",
      "Resized Dims:  (480, 338, 3)\n"
     ]
    }
   ],
   "source": [
    "imgS = cv2.imread('train_img_path/Chris Evans.jpg')\n",
    "print('Orignal Dims: ', imgS.shape)\n",
    "\n",
    "scale_percent = 30\n",
    "width = int(imgS.shape[1]*scale_percent/100)\n",
    "height = int(imgS.shape[0]*scale_percent/100)\n",
    "dim = (width, height)\n",
    "\n",
    "resized = cv2.resize(imgS, dim)\n",
    "print('Resized Dims: ', resized.shape)\n",
    "# cv2.imshow('resized',resized)"
   ]
  },
  {
   "cell_type": "code",
   "execution_count": 14,
   "id": "d062ff70-dc59-4963-8ed5-f45c9632dde0",
   "metadata": {
    "scrolled": true,
    "tags": []
   },
   "outputs": [
    {
     "name": "stdout",
     "output_type": "stream",
     "text": [
      "[(428, 946, 1094, 280)]\n",
      "[{'chin': [(277, 597), (275, 676), (277, 758), (283, 844), (306, 930), (353, 1005), (418, 1062), (496, 1108), (582, 1124), (667, 1118), (739, 1076), (796, 1017), (837, 943), (862, 858), (871, 777), (878, 695), (881, 615)], 'left_eyebrow': [(355, 559), (388, 512), (447, 488), (509, 496), (566, 518)], 'right_eyebrow': [(654, 520), (710, 502), (767, 501), (817, 530), (838, 581)], 'nose_bridge': [(614, 567), (616, 613), (619, 659), (621, 708)], 'nose_tip': [(556, 747), (585, 756), (614, 764), (638, 760), (659, 752)], 'left_eye': [(433, 582), (461, 565), (496, 566), (527, 586), (494, 591), (460, 590)], 'right_eye': [(679, 591), (711, 573), (747, 575), (774, 596), (747, 603), (712, 601)], 'top_lip': [(473, 859), (520, 837), (569, 829), (604, 837), (639, 832), (681, 846), (715, 874), (701, 872), (638, 846), (603, 849), (568, 844), (488, 859)], 'bottom_lip': [(715, 874), (681, 925), (638, 940), (599, 940), (561, 936), (513, 915), (473, 859), (488, 859), (564, 897), (601, 902), (638, 899), (701, 872)]}]\n"
     ]
    }
   ],
   "source": [
    "print(face_recognition.face_locations(imgS))\n",
    "print(face_recognition.face_landmarks(imgS))"
   ]
  },
  {
   "cell_type": "code",
   "execution_count": 15,
   "id": "ee004b54-449e-47e1-96c4-d5e51c8b5c10",
   "metadata": {},
   "outputs": [
    {
     "name": "stdout",
     "output_type": "stream",
     "text": [
      "['Chris Evans', 'jpg']\n",
      "['Jeremy Renner', 'jpg']\n",
      "['Robert Downey', 'jpg']\n",
      "['Scarlett Johansson', 'jpg']\n"
     ]
    }
   ],
   "source": [
    "train_path = 'train_img_path'\n",
    "try_path = os.listdir(train_path)\n",
    "member_Names = []\n",
    "\n",
    "for file in try_path:\n",
    "  if(file.endswith(\".jpeg\") or file.endswith(\".jpg\") or file.endswith(\".png\")):\n",
    "    print(file.split('.'))\n",
    "    name_with_ext = file.split('.')\n",
    "    member_Names.append(name_with_ext[0])"
   ]
  },
  {
   "cell_type": "code",
   "execution_count": 16,
   "id": "a31ef931-e23e-4735-9fe6-bbc3bc8c2c29",
   "metadata": {},
   "outputs": [
    {
     "data": {
      "text/plain": [
       "['Chris Evans', 'Jeremy Renner', 'Robert Downey', 'Scarlett Johansson']"
      ]
     },
     "execution_count": 16,
     "metadata": {},
     "output_type": "execute_result"
    }
   ],
   "source": [
    "member_Names"
   ]
  },
  {
   "cell_type": "code",
   "execution_count": 17,
   "id": "17c6bdc5-93da-4ba8-abf2-bec33879cae7",
   "metadata": {
    "scrolled": true,
    "tags": []
   },
   "outputs": [
    {
     "name": "stdout",
     "output_type": "stream",
     "text": [
      "0\n",
      "0\n",
      "0\n",
      "0\n",
      "0\n",
      "0\n",
      "0\n",
      "0\n",
      "0\n",
      "0\n",
      "0\n",
      "0\n",
      "0\n",
      "0\n",
      "0\n",
      "0\n",
      "0\n",
      "0\n",
      "0\n",
      "0\n",
      "0\n",
      "0\n",
      "0\n",
      "0\n",
      "0\n",
      "0\n",
      "0\n",
      "0\n",
      "0\n",
      "0\n",
      "0\n",
      "0\n",
      "0\n",
      "0\n",
      "0\n",
      "0\n",
      "0\n",
      "0\n",
      "0\n",
      "0\n",
      "0\n",
      "0\n",
      "0\n",
      "0\n",
      "0\n",
      "1\n",
      "0\n",
      "0\n",
      "0\n",
      "0\n",
      "0\n",
      "0\n",
      "2\n",
      "2\n",
      "2\n",
      "2\n",
      "2\n",
      "2\n",
      "2\n",
      "2\n",
      "2\n",
      "2\n",
      "2\n",
      "1\n",
      "1\n",
      "1\n",
      "1\n",
      "1\n",
      "1\n",
      "1\n",
      "1\n",
      "1\n",
      "1\n",
      "1\n",
      "1\n",
      "1\n",
      "1\n",
      "3\n",
      "3\n",
      "3\n",
      "3\n",
      "3\n",
      "3\n",
      "3\n",
      "3\n",
      "3\n",
      "3\n",
      "3\n"
     ]
    }
   ],
   "source": [
    "# Should work on local system\n",
    "\n",
    "capture = cv2.VideoCapture(0)\n",
    "while True:\n",
    "  success, img = capture.read()\n",
    "  # imgS = cv2.resize(img, (0,0), None, 0.25,0.25)\n",
    "  faces_frame = face_recognition.face_locations(img)\n",
    "  encoded_faces = face_recognition.face_encodings(img, faces_frame)\n",
    "  for encode_face, faceloc in zip(encoded_faces, faces_frame):\n",
    "    matches = face_recognition.compare_faces(encode_face_List, encode_face)\n",
    "    faceDist = face_recognition.face_distance(encode_face_List, encode_face)\n",
    "    matchIndex = np.argmin(faceDist)\n",
    "    print(matchIndex)\n",
    "    if(matches[matchIndex]):\n",
    "      name = member_Names[matchIndex].upper().lower()\n",
    "      y1,x2,y2,x1 = faceloc\n",
    "\n",
    "      # y1,x2,y2,x1 = y1*4, x2*4, y2*4, x1*4\n",
    "      cv2.rectangle(img, (x1,y1),(x2,y2),(0,255,0),2)\n",
    "      cv2.rectangle(img, (x1,y2-35),(x2,y2),(0,255,0), cv2.FILLED)\n",
    "      cv2.putText(img, name, (x1+6, y2-5), cv2.FONT_HERSHEY_COMPLEX, 1,(255,255,255),2)\n",
    "      markAttendance(name)\n",
    "  cv2.imshow('webcam',img)\n",
    "  if cv2.waitKey(1) & 0xFF == ord('q'):\n",
    "    break"
   ]
  }
 ],
 "metadata": {
  "kernelspec": {
   "display_name": "Python 3 (ipykernel)",
   "language": "python",
   "name": "python3"
  },
  "language_info": {
   "codemirror_mode": {
    "name": "ipython",
    "version": 3
   },
   "file_extension": ".py",
   "mimetype": "text/x-python",
   "name": "python",
   "nbconvert_exporter": "python",
   "pygments_lexer": "ipython3",
   "version": "3.9.11"
  }
 },
 "nbformat": 4,
 "nbformat_minor": 5
}
